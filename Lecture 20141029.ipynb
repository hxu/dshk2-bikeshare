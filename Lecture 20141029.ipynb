{
 "metadata": {
  "name": "",
  "signature": "sha256:eb5eb10971453cd17a460d718f272f6755b14ad25316a51857fd11a4509cd405"
 },
 "nbformat": 3,
 "nbformat_minor": 0,
 "worksheets": [
  {
   "cells": [
    {
     "cell_type": "code",
     "collapsed": false,
     "input": [
      "import numpy as np\n",
      "import pandas as pd\n",
      "from sklearn.linear_model import Ridge\n",
      "from sklearn.cross_validation import cross_val_score\n",
      "from sklearn.metrics import make_scorer\n",
      "from sklearn.preprocessing import StandardScaler\n",
      "from sklearn.pipeline import Pipeline"
     ],
     "language": "python",
     "metadata": {},
     "outputs": [],
     "prompt_number": 84
    },
    {
     "cell_type": "code",
     "collapsed": false,
     "input": [
      "TEST_FILE = 'data/test.csv'\n",
      "TRAIN_FILE = 'data/train.csv'\n",
      "\n",
      "def get_train_data():\n",
      "    \"\"\"\n",
      "    Load the train data and split up the X an y\n",
      "    \"\"\"\n",
      "    df = pd.read_csv(TRAIN_FILE)\n",
      "    return df.iloc[:, 0:9], df.iloc[:, -1]\n",
      "\n",
      "def rmsle(actual, predicted):\n",
      "    \"\"\"\n",
      "    Given a column of actual bike rider counts, and a column of predicted\n",
      "    bike rider counts, calculate the RMSLE.\n",
      "    \"\"\"\n",
      "    squared_errors = (np.log(predicted + 1) - np.log(actual + 1)) ** 2\n",
      "    mean_squared = np.sum(squared_errors) / len(squared_errors)\n",
      "    return np.sqrt(mean_squared)\n",
      "\n",
      "rmsle_scorer = make_scorer(rmsle, greater_is_better=False)\n",
      "\n",
      "class FlooredRidge(Ridge):\n",
      "    def predict(self, X):\n",
      "        predictions = super(FlooredRidge, self).predict(X)\n",
      "        predictions[predictions < 0] = 0\n",
      "        return predictions"
     ],
     "language": "python",
     "metadata": {},
     "outputs": [],
     "prompt_number": 59
    },
    {
     "cell_type": "code",
     "collapsed": false,
     "input": [
      "# First naive model, just to test that everything works\n",
      "X, y = get_train_data()\n",
      "# Subset X to just three columns\n",
      "Xhat = X[['temp', 'atemp', 'humidity']]\n",
      "ridge_estimator = Ridge()\n",
      "ridge_estimator.fit(Xhat, y)"
     ],
     "language": "python",
     "metadata": {},
     "outputs": [
      {
       "metadata": {},
       "output_type": "pyout",
       "prompt_number": 45,
       "text": [
        "Ridge(alpha=1.0, copy_X=True, fit_intercept=True, max_iter=None,\n",
        "   normalize=False, solver='auto', tol=0.001)"
       ]
      }
     ],
     "prompt_number": 45
    },
    {
     "cell_type": "code",
     "collapsed": false,
     "input": [
      "ridge_estimator = FlooredRidge()\n",
      "cross_val_score(ridge_estimator, Xhat, y, scoring=rmsle_scorer, cv=5)"
     ],
     "language": "python",
     "metadata": {},
     "outputs": [
      {
       "metadata": {},
       "output_type": "pyout",
       "prompt_number": 68,
       "text": [
        "array([-1.67135831, -1.47965562, -1.40796795, -1.33777026, -1.24200419])"
       ]
      }
     ],
     "prompt_number": 68
    },
    {
     "cell_type": "code",
     "collapsed": false,
     "input": [
      "X, y = get_train_data()\n",
      "# Subset X to just three columns\n",
      "Xhat = X[['temp', 'atemp', 'humidity']]"
     ],
     "language": "python",
     "metadata": {},
     "outputs": [],
     "prompt_number": 70
    },
    {
     "cell_type": "code",
     "collapsed": false,
     "input": [
      "normalize = StandardScaler()\n",
      "normalized_x = normalize.fit_transform(Xhat)\n",
      "\n",
      "ridge_estimator = FlooredRidge()\n",
      "cross_val_score(ridge_estimator, normalized_x, y, scoring=rmsle_scorer, cv=5)"
     ],
     "language": "python",
     "metadata": {},
     "outputs": [
      {
       "metadata": {},
       "output_type": "pyout",
       "prompt_number": 83,
       "text": [
        "array([-1.67133397, -1.47964703, -1.40791687, -1.33777304, -1.241764  ])"
       ]
      }
     ],
     "prompt_number": 83
    },
    {
     "cell_type": "code",
     "collapsed": false,
     "input": [
      "X, y = get_train_data()\n",
      "# Subset X to just three columns\n",
      "Xhat = X[['temp', 'atemp', 'humidity']]\n",
      "normalize = StandardScaler()\n",
      "estimator = FlooredRidge()\n",
      "pipeline = Pipeline([('normalize', normalize), ('ridge', estimator)])"
     ],
     "language": "python",
     "metadata": {},
     "outputs": [],
     "prompt_number": 85
    },
    {
     "cell_type": "code",
     "collapsed": false,
     "input": [
      "pipeline.fit(Xhat, y)"
     ],
     "language": "python",
     "metadata": {},
     "outputs": [
      {
       "metadata": {},
       "output_type": "pyout",
       "prompt_number": 88,
       "text": [
        "Pipeline(steps=[('normalize', StandardScaler(copy=True, with_mean=True, with_std=True)), ('ridge', FlooredRidge(alpha=1.0, copy_X=True, fit_intercept=True, max_iter=None,\n",
        "       normalize=False, solver='auto', tol=0.001))])"
       ]
      }
     ],
     "prompt_number": 88
    },
    {
     "cell_type": "code",
     "collapsed": false,
     "input": [
      "pred = pipeline.predict(Xhat)"
     ],
     "language": "python",
     "metadata": {},
     "outputs": [],
     "prompt_number": 89
    },
    {
     "cell_type": "code",
     "collapsed": false,
     "input": [
      "cross_val_score(pipeline, Xhat, y, scoring=rmsle_scorer, cv=5)"
     ],
     "language": "python",
     "metadata": {},
     "outputs": [
      {
       "metadata": {},
       "output_type": "pyout",
       "prompt_number": 96,
       "text": [
        "array([-1.67133538, -1.4796492 , -1.40791627, -1.33777294, -1.24175033])"
       ]
      }
     ],
     "prompt_number": 96
    },
    {
     "cell_type": "code",
     "collapsed": false,
     "input": [],
     "language": "python",
     "metadata": {},
     "outputs": []
    }
   ],
   "metadata": {}
  }
 ]
}