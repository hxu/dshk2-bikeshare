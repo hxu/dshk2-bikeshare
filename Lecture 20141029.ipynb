{
 "metadata": {
  "name": "",
  "signature": "sha256:d3b6232bf0da65db2f1c6e2f1dfb5d77208704cd713370df6e13e3a7dac4007a"
 },
 "nbformat": 3,
 "nbformat_minor": 0,
 "worksheets": [
  {
   "cells": [
    {
     "cell_type": "code",
     "collapsed": false,
     "input": [
      "import numpy as np\n",
      "import pandas as pd\n",
      "from sklearn.linear_model import Ridge\n",
      "from sklearn.cross_validation import cross_val_score\n",
      "from sklearn.metrics import make_scorer\n",
      "from sklearn.preprocessing import StandardScaler\n",
      "from sklearn.pipeline import Pipeline\n",
      "from sklearn.grid_search import GridSearchCV"
     ],
     "language": "python",
     "metadata": {},
     "outputs": [],
     "prompt_number": 98
    },
    {
     "cell_type": "code",
     "collapsed": false,
     "input": [
      "TEST_FILE = 'data/test.csv'\n",
      "TRAIN_FILE = 'data/train.csv'\n",
      "\n",
      "def get_train_data():\n",
      "    \"\"\"\n",
      "    Load the train data and split up the X an y\n",
      "    \"\"\"\n",
      "    df = pd.read_csv(TRAIN_FILE)\n",
      "    return df.iloc[:, 0:9], df.iloc[:, -1]\n",
      "\n",
      "def rmsle(actual, predicted):\n",
      "    \"\"\"\n",
      "    Given a column of actual bike rider counts, and a column of predicted\n",
      "    bike rider counts, calculate the RMSLE.\n",
      "    \"\"\"\n",
      "    squared_errors = (np.log(predicted + 1) - np.log(actual + 1)) ** 2\n",
      "    mean_squared = np.sum(squared_errors) / len(squared_errors)\n",
      "    return np.sqrt(mean_squared)\n",
      "\n",
      "rmsle_scorer = make_scorer(rmsle, greater_is_better=False)\n",
      "\n",
      "class FlooredRidge(Ridge):\n",
      "    def predict(self, X):\n",
      "        predictions = super(FlooredRidge, self).predict(X)\n",
      "        predictions[predictions < 0] = 0\n",
      "        return predictions"
     ],
     "language": "python",
     "metadata": {},
     "outputs": [],
     "prompt_number": 59
    },
    {
     "cell_type": "code",
     "collapsed": false,
     "input": [
      "# First naive model, just to test that everything works\n",
      "X, y = get_train_data()\n",
      "# Subset X to just three columns\n",
      "Xhat = X[['temp', 'atemp', 'humidity']]\n",
      "ridge_estimator = Ridge()\n",
      "ridge_estimator.fit(Xhat, y)"
     ],
     "language": "python",
     "metadata": {},
     "outputs": [
      {
       "metadata": {},
       "output_type": "pyout",
       "prompt_number": 45,
       "text": [
        "Ridge(alpha=1.0, copy_X=True, fit_intercept=True, max_iter=None,\n",
        "   normalize=False, solver='auto', tol=0.001)"
       ]
      }
     ],
     "prompt_number": 45
    },
    {
     "cell_type": "code",
     "collapsed": false,
     "input": [
      "ridge_estimator = FlooredRidge()\n",
      "cross_val_score(ridge_estimator, Xhat, y, scoring=rmsle_scorer, cv=5)"
     ],
     "language": "python",
     "metadata": {},
     "outputs": [
      {
       "metadata": {},
       "output_type": "pyout",
       "prompt_number": 68,
       "text": [
        "array([-1.67135831, -1.47965562, -1.40796795, -1.33777026, -1.24200419])"
       ]
      }
     ],
     "prompt_number": 68
    },
    {
     "cell_type": "code",
     "collapsed": false,
     "input": [
      "X, y = get_train_data()\n",
      "# Subset X to just three columns\n",
      "Xhat = X[['temp', 'atemp', 'humidity']]"
     ],
     "language": "python",
     "metadata": {},
     "outputs": [],
     "prompt_number": 70
    },
    {
     "cell_type": "code",
     "collapsed": false,
     "input": [
      "normalize = StandardScaler()\n",
      "normalized_x = normalize.fit_transform(Xhat)\n",
      "\n",
      "ridge_estimator = FlooredRidge()\n",
      "cross_val_score(ridge_estimator, normalized_x, y, scoring=rmsle_scorer, cv=5)"
     ],
     "language": "python",
     "metadata": {},
     "outputs": [
      {
       "metadata": {},
       "output_type": "pyout",
       "prompt_number": 83,
       "text": [
        "array([-1.67133397, -1.47964703, -1.40791687, -1.33777304, -1.241764  ])"
       ]
      }
     ],
     "prompt_number": 83
    },
    {
     "cell_type": "code",
     "collapsed": false,
     "input": [
      "X, y = get_train_data()\n",
      "# Subset X to just three columns\n",
      "Xhat = X[['temp', 'atemp', 'humidity']]\n",
      "normalize = StandardScaler()\n",
      "estimator = FlooredRidge()\n",
      "pipeline = Pipeline([('normalize', normalize), ('ridge', estimator)])\n",
      "cross_val_score(pipeline, Xhat, y, scoring=rmsle_scorer, cv=5)"
     ],
     "language": "python",
     "metadata": {},
     "outputs": [],
     "prompt_number": 85
    },
    {
     "cell_type": "code",
     "collapsed": false,
     "input": [
      "X, y = get_train_data()\n",
      "# Subset X to just three columns\n",
      "Xhat = X[['temp', 'atemp', 'humidity']]\n",
      "estimator = FlooredRidge()\n",
      "parameters = {'alpha': np.logspace(1, 4)}\n",
      "grid_search = GridSearchCV(estimator, parameters, scoring=rmsle_scorer, cv=5)"
     ],
     "language": "python",
     "metadata": {},
     "outputs": [],
     "prompt_number": 114
    },
    {
     "cell_type": "code",
     "collapsed": false,
     "input": [
      "grid_search"
     ],
     "language": "python",
     "metadata": {},
     "outputs": [
      {
       "metadata": {},
       "output_type": "pyout",
       "prompt_number": 116,
       "text": [
        "GridSearchCV(cv=5,\n",
        "       estimator=FlooredRidge(alpha=1.0, copy_X=True, fit_intercept=True, max_iter=None,\n",
        "       normalize=False, solver='auto', tol=0.001),\n",
        "       fit_params={}, iid=True, loss_func=None, n_jobs=1,\n",
        "       param_grid={'alpha': array([    10.     ,     11.51395,     13.25711,     15.26418,\n",
        "           17.57511,     20.2359 ,     23.29952,     26.82696,\n",
        "           30.88844,     35.5648 ,     40.94915,     47.14866,\n",
        "           54.28675,     62.50552,     71.96857,     82.86428,\n",
        "           95.40955,    109...\n",
        "         4941.71336,   5689.86603,   6551.28557,   7543.12006,\n",
        "         8685.11374,  10000.     ])},\n",
        "       pre_dispatch='2*n_jobs', refit=True, score_func=None,\n",
        "       scoring=make_scorer(rmsle, greater_is_better=False), verbose=0)"
       ]
      }
     ],
     "prompt_number": 116
    },
    {
     "cell_type": "code",
     "collapsed": false,
     "input": [
      "grid_search.fit(Xhat, y)"
     ],
     "language": "python",
     "metadata": {},
     "outputs": [
      {
       "metadata": {},
       "output_type": "pyout",
       "prompt_number": 117,
       "text": [
        "GridSearchCV(cv=5,\n",
        "       estimator=FlooredRidge(alpha=1.0, copy_X=True, fit_intercept=True, max_iter=None,\n",
        "       normalize=False, solver='auto', tol=0.001),\n",
        "       fit_params={}, iid=True, loss_func=None, n_jobs=1,\n",
        "       param_grid={'alpha': array([    10.     ,     11.51395,     13.25711,     15.26418,\n",
        "           17.57511,     20.2359 ,     23.29952,     26.82696,\n",
        "           30.88844,     35.5648 ,     40.94915,     47.14866,\n",
        "           54.28675,     62.50552,     71.96857,     82.86428,\n",
        "           95.40955,    109...\n",
        "         4941.71336,   5689.86603,   6551.28557,   7543.12006,\n",
        "         8685.11374,  10000.     ])},\n",
        "       pre_dispatch='2*n_jobs', refit=True, score_func=None,\n",
        "       scoring=make_scorer(rmsle, greater_is_better=False), verbose=0)"
       ]
      }
     ],
     "prompt_number": 117
    },
    {
     "cell_type": "code",
     "collapsed": false,
     "input": [
      "grid_search.grid_scores_"
     ],
     "language": "python",
     "metadata": {},
     "outputs": [
      {
       "metadata": {},
       "output_type": "pyout",
       "prompt_number": 118,
       "text": [
        "[mean: -1.42777, std: 0.14494, params: {'alpha': 10.0},\n",
        " mean: -1.42777, std: 0.14494, params: {'alpha': 11.513953993264474},\n",
        " mean: -1.42776, std: 0.14494, params: {'alpha': 13.257113655901088},\n",
        " mean: -1.42776, std: 0.14495, params: {'alpha': 15.264179671752334},\n",
        " mean: -1.42776, std: 0.14495, params: {'alpha': 17.575106248547922},\n",
        " mean: -1.42776, std: 0.14495, params: {'alpha': 20.235896477251575},\n",
        " mean: -1.42776, std: 0.14495, params: {'alpha': 23.299518105153719},\n",
        " mean: -1.42775, std: 0.14496, params: {'alpha': 26.826957952797258},\n",
        " mean: -1.42775, std: 0.14496, params: {'alpha': 30.888435964774818},\n",
        " mean: -1.42775, std: 0.14496, params: {'alpha': 35.564803062231285},\n",
        " mean: -1.42774, std: 0.14497, params: {'alpha': 40.949150623804258},\n",
        " mean: -1.42774, std: 0.14497, params: {'alpha': 47.148663634573943},\n",
        " mean: -1.42773, std: 0.14498, params: {'alpha': 54.286754393238596},\n",
        " mean: -1.42773, std: 0.14498, params: {'alpha': 62.505519252739731},\n",
        " mean: -1.42772, std: 0.14499, params: {'alpha': 71.968567300115211},\n",
        " mean: -1.42771, std: 0.14500, params: {'alpha': 82.864277285468418},\n",
        " mean: -1.42770, std: 0.14501, params: {'alpha': 95.409547634999385},\n",
        " mean: -1.42769, std: 0.14502, params: {'alpha': 109.85411419875584},\n",
        " mean: -1.42768, std: 0.14503, params: {'alpha': 126.48552168552958},\n",
        " mean: -1.42767, std: 0.14505, params: {'alpha': 145.63484775012444},\n",
        " mean: -1.42765, std: 0.14506, params: {'alpha': 167.68329368110082},\n",
        " mean: -1.42764, std: 0.14508, params: {'alpha': 193.06977288832496},\n",
        " mean: -1.42762, std: 0.14510, params: {'alpha': 222.29964825261956},\n",
        " mean: -1.42760, std: 0.14513, params: {'alpha': 255.95479226995357},\n",
        " mean: -1.42757, std: 0.14515, params: {'alpha': 294.70517025518097},\n",
        " mean: -1.42755, std: 0.14518, params: {'alpha': 339.32217718953297},\n",
        " mean: -1.42752, std: 0.14521, params: {'alpha': 390.69399370546171},\n",
        " mean: -1.42749, std: 0.14525, params: {'alpha': 449.84326689694439},\n",
        " mean: -1.42746, std: 0.14529, params: {'alpha': 517.94746792312128},\n",
        " mean: -1.42742, std: 0.14533, params: {'alpha': 596.3623316594643},\n",
        " mean: -1.42738, std: 0.14538, params: {'alpha': 686.6488450042998},\n",
        " mean: -1.42734, std: 0.14543, params: {'alpha': 790.60432109077021},\n",
        " mean: -1.42730, std: 0.14547, params: {'alpha': 910.29817799152181},\n",
        " mean: -1.42724, std: 0.14551, params: {'alpha': 1048.1131341546852},\n",
        " mean: -1.42719, std: 0.14556, params: {'alpha': 1206.792640639329},\n",
        " mean: -1.42713, std: 0.14561, params: {'alpha': 1389.4954943731375},\n",
        " mean: -1.42707, std: 0.14566, params: {'alpha': 1599.8587196060573},\n",
        " mean: -1.42702, std: 0.14572, params: {'alpha': 1842.0699693267163},\n",
        " mean: -1.42696, std: 0.14578, params: {'alpha': 2120.9508879201903},\n",
        " mean: -1.42691, std: 0.14585, params: {'alpha': 2442.0530945486498},\n",
        " mean: -1.42685, std: 0.14592, params: {'alpha': 2811.7686979742311},\n",
        " mean: -1.42680, std: 0.14600, params: {'alpha': 3237.4575428176431},\n",
        " mean: -1.42675, std: 0.14609, params: {'alpha': 3727.5937203149379},\n",
        " mean: -1.42670, std: 0.14618, params: {'alpha': 4291.9342601287781},\n",
        " mean: -1.42666, std: 0.14628, params: {'alpha': 4941.7133613238329},\n",
        " mean: -1.42661, std: 0.14638, params: {'alpha': 5689.8660290182934},\n",
        " mean: -1.42657, std: 0.14649, params: {'alpha': 6551.2855685955092},\n",
        " mean: -1.42652, std: 0.14660, params: {'alpha': 7543.120063354615},\n",
        " mean: -1.42647, std: 0.14671, params: {'alpha': 8685.1137375135204},\n",
        " mean: -1.42635, std: 0.14670, params: {'alpha': 10000.0}]"
       ]
      }
     ],
     "prompt_number": 118
    },
    {
     "cell_type": "code",
     "collapsed": false,
     "input": [],
     "language": "python",
     "metadata": {},
     "outputs": []
    }
   ],
   "metadata": {}
  }
 ]
}