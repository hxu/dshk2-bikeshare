{
 "metadata": {
  "name": "",
  "signature": "sha256:a8c83fda498af391416a14a456bb2244f86806a5c0ec7a405c1c36539ab0c8f4"
 },
 "nbformat": 3,
 "nbformat_minor": 0,
 "worksheets": [
  {
   "cells": [
    {
     "cell_type": "code",
     "collapsed": false,
     "input": [
      "import numpy as np\n",
      "import pandas as pd\n",
      "from sklearn.linear_model import Ridge\n",
      "from sklearn.cross_validation import cross_val_score\n",
      "from sklearn.metrics import make_scorer"
     ],
     "language": "python",
     "metadata": {},
     "outputs": [],
     "prompt_number": 41
    },
    {
     "cell_type": "code",
     "collapsed": false,
     "input": [
      "TEST_FILE = 'data/test.csv'\n",
      "TRAIN_FILE = 'data/train.csv'\n",
      "\n",
      "def get_train_data():\n",
      "    \"\"\"\n",
      "    Load the train data and split up the X an y\n",
      "    \"\"\"\n",
      "    df = pd.read_csv(TRAIN_FILE)\n",
      "    return df.iloc[:, 0:9], df.iloc[:, -1]\n",
      "\n",
      "def rmsle(actual, predicted):\n",
      "    \"\"\"\n",
      "    Given a column of actual bike rider counts, and a column of predicted\n",
      "    bike rider counts, calculate the RMSLE.\n",
      "    \"\"\"\n",
      "    squared_errors = (np.log(predicted + 1) - np.log(actual + 1)) ** 2\n",
      "    mean_squared = np.sum(squared_errors) / len(squared_errors)\n",
      "    return np.sqrt(mean_squared)\n",
      "\n",
      "rmsle_scorer = make_scorer(rmsle, greater_is_better=False)\n",
      "\n",
      "class FlooredRidge(Ridge):\n",
      "    def predict(self, X):\n",
      "        predictions = super(FlooredRidge, self).predict(X)\n",
      "        predictions[predictions < 0] = 0\n",
      "        return predictions"
     ],
     "language": "python",
     "metadata": {},
     "outputs": [],
     "prompt_number": 59
    },
    {
     "cell_type": "code",
     "collapsed": false,
     "input": [
      "# First naive model, just to test that everything works\n",
      "X, y = get_train_data()\n",
      "# Subset X to just three columns\n",
      "Xhat = X[['temp', 'atemp', 'humidity']]\n",
      "ridge_estimator = Ridge()\n",
      "ridge_estimator.fit(Xhat, y)"
     ],
     "language": "python",
     "metadata": {},
     "outputs": [
      {
       "metadata": {},
       "output_type": "pyout",
       "prompt_number": 45,
       "text": [
        "Ridge(alpha=1.0, copy_X=True, fit_intercept=True, max_iter=None,\n",
        "   normalize=False, solver='auto', tol=0.001)"
       ]
      }
     ],
     "prompt_number": 45
    },
    {
     "cell_type": "code",
     "collapsed": false,
     "input": [
      "ridge_estimator = FlooredRidge()\n",
      "cross_val_score(ridge_estimator, Xhat, y, scoring=rmsle_scorer, cv=5)"
     ],
     "language": "python",
     "metadata": {},
     "outputs": [
      {
       "metadata": {},
       "output_type": "pyout",
       "prompt_number": 68,
       "text": [
        "array([-1.67135831, -1.47965562, -1.40796795, -1.33777026, -1.24200419])"
       ]
      }
     ],
     "prompt_number": 68
    },
    {
     "cell_type": "code",
     "collapsed": false,
     "input": [
      "ridge_estimator = Ridge()\n",
      "ridge_estimator.fit(Xhat, y)\n",
      "vanilla_predictions = ridge_estimator.predict(Xhat)"
     ],
     "language": "python",
     "metadata": {},
     "outputs": [],
     "prompt_number": 53
    },
    {
     "cell_type": "code",
     "collapsed": false,
     "input": [
      "sum(vanilla_predictions < 0)"
     ],
     "language": "python",
     "metadata": {},
     "outputs": [
      {
       "metadata": {},
       "output_type": "pyout",
       "prompt_number": 55,
       "text": [
        "59"
       ]
      }
     ],
     "prompt_number": 55
    },
    {
     "cell_type": "code",
     "collapsed": false,
     "input": [
      "fancy_ridge = FlooredRidge()\n",
      "fancy_ridge.fit(Xhat, y)\n",
      "fancy_predictions = fancy_ridge.predict(Xhat)"
     ],
     "language": "python",
     "metadata": {},
     "outputs": [],
     "prompt_number": 60
    },
    {
     "cell_type": "code",
     "collapsed": false,
     "input": [
      "sum(fancy_predictions < 0)"
     ],
     "language": "python",
     "metadata": {},
     "outputs": [
      {
       "metadata": {},
       "output_type": "pyout",
       "prompt_number": 62,
       "text": [
        "0"
       ]
      }
     ],
     "prompt_number": 62
    },
    {
     "cell_type": "code",
     "collapsed": false,
     "input": [
      "is_the_same = fancy_predictions == vanilla_predictions"
     ],
     "language": "python",
     "metadata": {},
     "outputs": [],
     "prompt_number": 63
    },
    {
     "cell_type": "code",
     "collapsed": false,
     "input": [
      "vanilla_predictions[-is_the_same]"
     ],
     "language": "python",
     "metadata": {},
     "outputs": [
      {
       "metadata": {},
       "output_type": "pyout",
       "prompt_number": 67,
       "text": [
        "array([-14.50344206, -14.50344206,  -2.84186956,  -2.84186956,\n",
        "       -14.50344206,  -2.52663095, -22.47920859, -14.50344206,\n",
        "       -10.50239747,  -5.36801494,  -5.36801494, -27.53149933,\n",
        "       -32.98112048,  -6.81659149,  -9.05382091,  -9.05382091,\n",
        "        -2.52663095,  -2.52663095,  -2.52663095,  -2.52663095,\n",
        "        -5.45010672,  -2.6350454 , -17.11167923,  -9.1359127 ,\n",
        "       -17.11167923, -17.11167923, -21.11272382, -14.58553385,\n",
        "       -14.58553385, -14.58553385,  -2.6350454 ,  -2.6350454 ,\n",
        "       -14.58553385, -16.06043307,  -1.55747658, -22.16396997,\n",
        "       -13.34378146,  -5.36801494,  -5.36801494,  -9.34273687,\n",
        "       -31.50622126,  -5.36801494,  -3.0323758 ,  -4.39886057,\n",
        "       -22.56130037, -22.56130037, -29.08849034, -29.08849034,\n",
        "        -1.55747658,  -1.55747658,  -0.39781598,  -5.36801494,\n",
        "       -21.00430937, -11.97729669,  -7.9762521 ,  -7.9762521 ,\n",
        "        -7.9762521 ,  -7.9762521 , -21.21113353])"
       ]
      }
     ],
     "prompt_number": 67
    },
    {
     "cell_type": "code",
     "collapsed": false,
     "input": [],
     "language": "python",
     "metadata": {},
     "outputs": []
    }
   ],
   "metadata": {}
  }
 ]
}