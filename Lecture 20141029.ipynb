{
 "metadata": {
  "name": "",
  "signature": "sha256:b8ab9b43d7a410f7d8b5695ee6b453e4ad372a07092a36de739413ce201a5d80"
 },
 "nbformat": 3,
 "nbformat_minor": 0,
 "worksheets": [
  {
   "cells": [
    {
     "cell_type": "code",
     "collapsed": false,
     "input": [
      "import numpy as np\n",
      "import pandas as pd\n",
      "from sklearn.linear_model import Ridge\n",
      "from sklearn.cross_validation import cross_val_score\n",
      "from sklearn.metrics import make_scorer\n",
      "from sklearn.preprocessing import StandardScaler\n",
      "from sklearn.pipeline import Pipeline, FeatureUnion\n",
      "from sklearn.grid_search import GridSearchCV\n",
      "from sklearn.base import BaseEstimator, TransformerMixin\n",
      "from sklearn.ensemble import ExtraTreesRegressor"
     ],
     "language": "python",
     "metadata": {},
     "outputs": [],
     "prompt_number": 243
    },
    {
     "cell_type": "code",
     "collapsed": false,
     "input": [
      "TEST_FILE = 'data/test.csv'\n",
      "TRAIN_FILE = 'data/train.csv'\n",
      "\n",
      "def get_train_data():\n",
      "    \"\"\"\n",
      "    Load the train data and split up the X an y\n",
      "    \"\"\"\n",
      "    df = pd.read_csv(TRAIN_FILE, parse_dates=['datetime'])\n",
      "    return df.iloc[:, 0:9], df.iloc[:, -1]\n",
      "\n",
      "def rmsle(actual, predicted):\n",
      "    \"\"\"\n",
      "    Given a column of actual bike rider counts, and a column of predicted\n",
      "    bike rider counts, calculate the RMSLE.\n",
      "    \"\"\"\n",
      "    squared_errors = (np.log(predicted + 1) - np.log(actual + 1)) ** 2\n",
      "    mean_squared = np.sum(squared_errors) / len(squared_errors)\n",
      "    return np.sqrt(mean_squared)\n",
      "\n",
      "rmsle_scorer = make_scorer(rmsle, greater_is_better=False)\n",
      "\n",
      "class FlooredRidge(Ridge):\n",
      "    def predict(self, X):\n",
      "        predictions = super(FlooredRidge, self).predict(X)\n",
      "        predictions[predictions < 0] = 0\n",
      "        return predictions\n",
      "    \n",
      "    \n",
      "class Extract(BaseEstimator, TransformerMixin):\n",
      "    def __init__(self, field):\n",
      "        self.field = field\n",
      "    \n",
      "    def fit(self, X, y=None):\n",
      "        return self\n",
      "    \n",
      "    def transform(self, X, y=None):\n",
      "        res = np.zeros((X.shape[0], 1))\n",
      "        for idx in xrange(X.shape[0]):\n",
      "            res[idx, 0] = getattr(X[idx, 0], self.field)\n",
      "        return res\n",
      "    \n",
      "class ExtractFeatures(BaseEstimator, TransformerMixin):\n",
      "    def __init__(self):\n",
      "        pass\n",
      "    \n",
      "    def fit(self, X, y=None):\n",
      "        return self\n",
      "    \n",
      "    def transform(self, X, y=None):\n",
      "        return X[:, 5:8]"
     ],
     "language": "python",
     "metadata": {},
     "outputs": [],
     "prompt_number": 236
    },
    {
     "cell_type": "code",
     "collapsed": false,
     "input": [
      "# First naive model, just to test that everything works\n",
      "X, y = get_train_data()\n",
      "# Subset X to just three columns\n",
      "Xhat = X[['temp', 'atemp', 'humidity']]\n",
      "ridge_estimator = Ridge()\n",
      "ridge_estimator.fit(Xhat, y)"
     ],
     "language": "python",
     "metadata": {},
     "outputs": [
      {
       "metadata": {},
       "output_type": "pyout",
       "prompt_number": 45,
       "text": [
        "Ridge(alpha=1.0, copy_X=True, fit_intercept=True, max_iter=None,\n",
        "   normalize=False, solver='auto', tol=0.001)"
       ]
      }
     ],
     "prompt_number": 45
    },
    {
     "cell_type": "code",
     "collapsed": false,
     "input": [
      "ridge_estimator = FlooredRidge()\n",
      "cross_val_score(ridge_estimator, Xhat, y, scoring=rmsle_scorer, cv=5)"
     ],
     "language": "python",
     "metadata": {},
     "outputs": [
      {
       "metadata": {},
       "output_type": "pyout",
       "prompt_number": 68,
       "text": [
        "array([-1.67135831, -1.47965562, -1.40796795, -1.33777026, -1.24200419])"
       ]
      }
     ],
     "prompt_number": 68
    },
    {
     "cell_type": "code",
     "collapsed": false,
     "input": [
      "X, y = get_train_data()\n",
      "# Subset X to just three columns\n",
      "Xhat = X[['temp', 'atemp', 'humidity']]"
     ],
     "language": "python",
     "metadata": {},
     "outputs": [],
     "prompt_number": 70
    },
    {
     "cell_type": "code",
     "collapsed": false,
     "input": [
      "normalize = StandardScaler()\n",
      "normalized_x = normalize.fit_transform(Xhat)\n",
      "\n",
      "ridge_estimator = FlooredRidge()\n",
      "cross_val_score(ridge_estimator, normalized_x, y, scoring=rmsle_scorer, cv=5)"
     ],
     "language": "python",
     "metadata": {},
     "outputs": [
      {
       "metadata": {},
       "output_type": "pyout",
       "prompt_number": 83,
       "text": [
        "array([-1.67133397, -1.47964703, -1.40791687, -1.33777304, -1.241764  ])"
       ]
      }
     ],
     "prompt_number": 83
    },
    {
     "cell_type": "code",
     "collapsed": false,
     "input": [
      "X, y = get_train_data()\n",
      "# Subset X to just three columns\n",
      "Xhat = X[['temp', 'atemp', 'humidity']]\n",
      "normalize = StandardScaler()\n",
      "estimator = FlooredRidge()\n",
      "pipeline = Pipeline([('normalize', normalize), ('ridge', estimator)])\n",
      "cross_val_score(pipeline, Xhat, y, scoring=rmsle_scorer, cv=5)"
     ],
     "language": "python",
     "metadata": {},
     "outputs": [],
     "prompt_number": 85
    },
    {
     "cell_type": "code",
     "collapsed": false,
     "input": [
      "X, y = get_train_data()\n",
      "# Subset X to just three columns\n",
      "Xhat = X[['temp', 'atemp', 'humidity']]\n",
      "normalize = StandardScaler()\n",
      "estimator = FlooredRidge()\n",
      "pipeline = Pipeline([('normalize', normalize), ('ridge', estimator)])\n",
      "parameters = {\n",
      "    'ridge__alpha': np.logspace(1, 4, 10),\n",
      "    'normalize__with_mean': [True, False],\n",
      "    'normalize__with_std': [True, False]\n",
      "}\n",
      "grid_search = GridSearchCV(pipeline, parameters, scoring=rmsle_scorer, cv=5)"
     ],
     "language": "python",
     "metadata": {},
     "outputs": [],
     "prompt_number": 123
    },
    {
     "cell_type": "code",
     "collapsed": false,
     "input": [
      "X, y = get_train_data()\n",
      "extract_hour = Extract('hour')\n",
      "extract_day = Extract('day')\n",
      "extract_weather = ExtractFeatures()\n",
      "normalize = StandardScaler()\n",
      "estimator = ExtraTreesRegressor()\n",
      "pipeline_1 = Pipeline([('weather', extract_weather), ('normalize', normalize)])\n",
      "collect_features = FeatureUnion([('weather', pipeline_1), ('hour', extract_hour), ('day', extract_day)])\n",
      "outer_pipeline = Pipeline([('features', collect_features), ('estimator', estimator)])"
     ],
     "language": "python",
     "metadata": {},
     "outputs": [],
     "prompt_number": 244
    },
    {
     "cell_type": "code",
     "collapsed": false,
     "input": [
      "cross_val_score(outer_pipeline, X, y, scoring=rmsle_scorer, cv=5)"
     ],
     "language": "python",
     "metadata": {},
     "outputs": [
      {
       "metadata": {},
       "output_type": "pyout",
       "prompt_number": 245,
       "text": [
        "array([-1.05744669, -0.77789167, -0.79784096, -0.70577548, -0.79339498])"
       ]
      }
     ],
     "prompt_number": 245
    },
    {
     "cell_type": "code",
     "collapsed": false,
     "input": [
      "parameters = {\n",
      "    'estimator__n_estimators': [50, 100, 250, 500]\n",
      "}\n",
      "grid_search = GridSearchCV(outer_pipeline, parameters, scoring=rmsle_scorer, cv=5)"
     ],
     "language": "python",
     "metadata": {},
     "outputs": [],
     "prompt_number": 248
    },
    {
     "cell_type": "code",
     "collapsed": false,
     "input": [
      "grid_search.fit(X, y)"
     ],
     "language": "python",
     "metadata": {},
     "outputs": [
      {
       "metadata": {},
       "output_type": "pyout",
       "prompt_number": 249,
       "text": [
        "GridSearchCV(cv=5,\n",
        "       estimator=Pipeline(steps=[('features', FeatureUnion(n_jobs=1,\n",
        "       transformer_list=[('weather', Pipeline(steps=[('weather', ExtractFeatures()), ('normalize', StandardScaler(copy=True, with_mean=True, with_std=True))])), ('hour', Extract(field='hour')), ('day', Extract(field='day'))],\n",
        "       transformer_weights=None...t=2,\n",
        "          n_estimators=10, n_jobs=1, oob_score=False, random_state=None,\n",
        "          verbose=0))]),\n",
        "       fit_params={}, iid=True, loss_func=None, n_jobs=1,\n",
        "       param_grid={'estimator__n_estimators': [50, 100, 250, 500]},\n",
        "       pre_dispatch='2*n_jobs', refit=True, score_func=None,\n",
        "       scoring=make_scorer(rmsle, greater_is_better=False), verbose=0)"
       ]
      }
     ],
     "prompt_number": 249
    },
    {
     "cell_type": "code",
     "collapsed": false,
     "input": [
      "grid_search.grid_scores_"
     ],
     "language": "python",
     "metadata": {},
     "outputs": [
      {
       "metadata": {},
       "output_type": "pyout",
       "prompt_number": 253,
       "text": [
        "[mean: -0.81158, std: 0.12574, params: {'estimator__n_estimators': 50},\n",
        " mean: -0.80888, std: 0.12769, params: {'estimator__n_estimators': 100},\n",
        " mean: -0.80930, std: 0.12819, params: {'estimator__n_estimators': 250},\n",
        " mean: -0.80900, std: 0.12899, params: {'estimator__n_estimators': 500}]"
       ]
      }
     ],
     "prompt_number": 253
    },
    {
     "cell_type": "code",
     "collapsed": false,
     "input": [],
     "language": "python",
     "metadata": {},
     "outputs": []
    }
   ],
   "metadata": {}
  }
 ]
}